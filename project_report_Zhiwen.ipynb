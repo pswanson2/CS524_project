{
 "cells": [
  {
   "cell_type": "markdown",
   "metadata": {},
   "source": [
    "### CS/ECE/ISyE 524 &mdash; Introduction to Optimization &mdash; Spring 2020 ###\n",
    "\n",
    "# Grade Boosters #\n",
    "\n",
    "### Algorithms predicting the best courses should be taken by CS students based on their interests, GPA, among other factors.###\n",
    "\n",
    "#### Student 1 (email address), Student 2 (email address), Student 3 (email address), and Student 4 (email address)\n",
    "\n",
    "*****\n",
    "\n",
    "### Table of Contents\n",
    "\n",
    "1. [Introduction](#1.-Introduction)\n",
    "2. [Mathematical Model](#2.-Mathematical-model)\n",
    "  1. [Data sets and Optimization algorithms used](#4.A.-Results)\n",
    "  1. [Final Mathematical Model](#4.A.-Correctness)\n",
    "3. [Solution](#3.-Solution)\n",
    "4. [Results and Discussion](#4.-Results-and-discussion)\n",
    "  1. [Results](#4.A.-Results)\n",
    "  1. [Correctness](#4.A.-Correctness)\n",
    "  1. [Things not taken into account](#4.A.-Things-not-taken-into-account)\n",
    "  1. [Future work and application](#4.A.-Future-work-and-application)\n",
    "5. [Conclusion](#5.-Conclusion)\n",
    "6. [Attributions]"
   ]
  },
  {
   "cell_type": "code",
   "execution_count": 1,
   "metadata": {},
   "outputs": [
    {
     "name": "stdout",
     "output_type": "stream",
     "text": [
      "\u001b[32m\u001b[1m  Updating\u001b[22m\u001b[39m registry at `~/.julia/registries/General`\n",
      "\u001b[32m\u001b[1m  Updating\u001b[22m\u001b[39m git-repo `https://github.com/JuliaRegistries/General.git`\n",
      "\u001b[2K\u001b[?25h[1mFetching:\u001b[22m\u001b[39m [========================================>]  99.9 %0.0 % [=========>                               ]  22.0 %]  43.8 %===========================>             ]  65.8 %87.6 %\u001b[36m\u001b[1mFetching:\u001b[22m\u001b[39m [=====================================>   ]  90.5 %\u001b[32m\u001b[1m Resolving\u001b[22m\u001b[39m package versions...\n",
      "\u001b[32m\u001b[1m Installed\u001b[22m\u001b[39m StaticArrays ─ v0.12.2\n",
      "\u001b[32m\u001b[1m  Updating\u001b[22m\u001b[39m `~/.julia/environments/v1.3/Project.toml`\n",
      "\u001b[90m [no changes]\u001b[39m\n",
      "\u001b[32m\u001b[1m  Updating\u001b[22m\u001b[39m `~/.julia/environments/v1.3/Manifest.toml`\n",
      " \u001b[90m [90137ffa]\u001b[39m\u001b[93m ↑ StaticArrays v0.12.1 ⇒ v0.12.2\u001b[39m\n",
      "\u001b[32m\u001b[1m Resolving\u001b[22m\u001b[39m package versions...\n",
      "\u001b[32m\u001b[1m  Updating\u001b[22m\u001b[39m `~/.julia/environments/v1.3/Project.toml`\n",
      "\u001b[90m [no changes]\u001b[39m\n",
      "\u001b[32m\u001b[1m  Updating\u001b[22m\u001b[39m `~/.julia/environments/v1.3/Manifest.toml`\n",
      "\u001b[90m [no changes]\u001b[39m\n"
     ]
    }
   ],
   "source": [
    "## RUN ME NOW ONLY ONCE TO INSTALL NECESSARY LIBRARIES\n",
    "import Pkg;Pkg.add(\"PyPlot\");Pkg.add(\"Cbc\"); "
   ]
  },
  {
   "cell_type": "markdown",
   "metadata": {
    "collapsed": true
   },
   "source": [
    "## 1. Introduction ##\n",
    "\n",
    "This project develops an algorithm to help students in the University of Wisconsin-Madison Computer Sciences department develop an optimal schedule based on their interests. In addition to providing their optimal schedule, the algorithm will provide insights into different course types as well as what careers these courses can lead them into. For example, courses in computer archetecture may lend someone different career options than courses in information security.\n",
    "\n",
    "The algorithm takes into account course pre-requesites, students' areas of interest within computer science, courses' diffiulties (Average GPA), as well as areas of pursuits (industrial or academic). Furthermore, this project explores the trade-off between weights of areas of interests, grades, and area of pursuits in finding each student's optimal schedule. \n",
    "\n",
    "The purposes of this project are to:  \n",
    "1. look for an algorithm to best serve the students as they go through a computer science program  \n",
    "2. give Computer Science programs across the country ways to analysize the fit for their program in industry and / or academia  \n",
    "3. give advisors of Computer Science programs better insights to better serve their undergraduate students  \n",
    "4. provide social scientists and other social, administrative, political workers insights of computer science trends within American Higher Education. \n",
    "\n",
    "This project does not take into account of any statistical samples. This project solely looks for an algorithm to solve the optimization problem. See Future Work and Application in section 4 for how this algorithms can be applied."
   ]
  },
  {
   "cell_type": "markdown",
   "metadata": {
    "collapsed": true
   },
   "source": [
    "## 2. Mathematical model ( model 1 )\n"
   ]
  },
  {
   "cell_type": "markdown",
   "metadata": {},
   "source": [
    "### 1. Parameters  ###\n",
    "\n",
    "#### 1.1 Courses ####\n",
    "\n",
    "73 courses are used in our model; most are computer science courses, and the rest are mathematics, statistics, or ECE courses. They are represented by an array named $courses$.\n",
    "\n",
    "#### 1.2 GPA#### \n",
    "\n",
    "We obtained a dataset from Kaggle that contains every class offered at UW-Madison with their corresponding number of As, ABs, Bs, Cs, Ds, and Fs given for each semester from 2006 to 2017. The dataset can be downloaded at https://www.kaggle.com/Madgrades/uw-madison-courses#grade_distributions.csv. GPA is calculated from this dataset and is stored in courses_and_GPA.csv. \n",
    "\n",
    "GPA is represented by an array named $gpa$. $gpa_i$ is the corresponding GPA for course i. "
   ]
  },
  {
   "cell_type": "markdown",
   "metadata": {},
   "source": [
    "#### 1.3 Prerequisites & Graduation Requirement List ####\n",
    "\n",
    "We obtained the pre-requisites and graduation requirements from UW-Madison CS major requirement webpage (https://guide.wisc.edu/undergraduate/letters-science/computer-sciences/computer-sciences-bs/#requirementstext). \n",
    "\n",
    "Let the below variables be arrays that include the index of courses that satisfy different graduation requirements:\n",
    "\n",
    "$ basic\\_cs $: basic computer sciences $$ $$\n",
    "    $ basic\\_math $: basic mathematics $$ $$\n",
    "    $ add\\_math $: additional mathematics (beyond calculus) $$ $$\n",
    "    $ theory $: theory of computer science $$ $$\n",
    "    $ soft\\_hard $: software and hardware $$ $$\n",
    "    $ app $: application $$ $$\n",
    "    $ elect $: elective $$ $$\n",
    "\n",
    "\n",
    "\n",
    "Let array $pred$ records the pre-requisites for each course; $pred_i$ represents the indexes of pre-requisites courses for course i."
   ]
  },
  {
   "cell_type": "markdown",
   "metadata": {},
   "source": [
    "#### 1.4 Number of Courses ####\n",
    "\n",
    "NUM_COURSES refers to at least how many courses to take to satisfy degree requirement. It is set to be 15."
   ]
  },
  {
   "cell_type": "markdown",
   "metadata": {},
   "source": [
    "### 2. Decision Variables ###\n",
    "\n",
    "Let $i$ be the index of possible classes listed from the class table, $x_i$ be a binary variable for each class. The length of $x$ is 73, and $x_i=1$ when the class is taken, $x_i=0$ when the class is not taken.\n",
    "\n",
    "### 3. Constraints ###\n",
    "\n",
    "1) Graduation Constraint: For each requirement category, specific number of courses need to be taken:\n",
    "\n",
    "$$\\quad \\sum_{i} x_i = 5 \\ for \\ i \\ in \\ basic\\_cs $$\n",
    "    $$\\quad \\sum_{i} x_i = 2 \\ for \\ i \\ in \\ basic\\_math,$$\n",
    "    $$\\quad \\sum_{i} x_i \\geq 2 \\ for \\ i \\ in \\ add\\_math ,$$\n",
    "    $$\\quad \\sum_{i} x_i \\geq 1 \\ for \\ i \\ in \\ theory ,$$\n",
    "    $$\\quad \\sum_{i} x_i \\geq 2 \\ for \\ i \\ in \\ soft\\_hard ,$$\n",
    "    $$\\quad \\sum_{i} x_i \\geq 1 \\ for \\ i \\ in \\ app ,$$\n",
    "    $$\\quad \\sum_{i} x_i \\geq 2 \\ for \\ i \\ in \\ elect .$$\n",
    "    \n",
    "For example, in order to graduate, a student must take at least one class in application area.\n",
    "\n",
    "2) Prerequisite Constraint: For each class i, its pre-requisites must be taken at first:\n",
    "\n",
    "$$ x_j >= x_i \\ for \\ j \\ in \\ pred_i $$\n",
    "\n",
    "3) A class can not count for more than one degree requirement:\n",
    "\n",
    "$$\\quad \\sum_{i} x_i = \\ NUM\\_COURSES $$\n",
    "\n",
    "### 4. Objective ###\n",
    "\n",
    "$$max(\\quad \\sum_{i = 1}^{73}gpa_i*x_i)$$"
   ]
  },
  {
   "cell_type": "markdown",
   "metadata": {
    "collapsed": true
   },
   "source": [
    "## 3. Solution ( model 1 )##\n"
   ]
  },
  {
   "cell_type": "code",
   "execution_count": 15,
   "metadata": {},
   "outputs": [],
   "source": [
    "using CSV\n",
    "\n",
    "raw = CSV.read(\"courses_and_GPA.csv\")\n",
    "(m,n) = size(raw)\n",
    "\n",
    "courses = raw[:,1]\n",
    "gpa = convert(Matrix{Float64}, raw[:,2:n])\n",
    "pre = [[],[],[],[2],[2,3],[3],[3],[69,70,3],[51],[51],[49],[51],[6,7],[55,3],[51,59,3],[70,6],[3,51],[51],[18,3],[69,1],[45,51],[3,69],[5,6],[5,6],[5,6],[1],[3,68],[23],[47,3,5],[4,5],[6,47],[69,6],[5,6],[55,73],[1],[3,69],[70,6],[],[3,51],[],[24],[24],[32],[],[44],[44],[69],[47],[71,73],[69],[69],[58],[52],[47],[69],[47],[],[57],[47],[47],[51],[47],[53],[56,57],[64],[64],[56],[],[68],[],[47],[48],[68]]                                 \n",
    "\n",
    "basic_cs = [2,3,5,6,70]\n",
    "basic_math = [68,69]\n",
    "add_math = [55,73,8,10,14,15,18,19,46,47,50,51,52,53,54,56,58,60,61,62,12,63,64,65,66,67,48,49,71,72]\n",
    "theory = [37,16]\n",
    "soft_hard = [7,13,23,24,30,33,41,42]\n",
    "app = [8,9,14,15,17,18,22,27,28,29,32,35]\n",
    "elect = [7,8,9,10,11,12,13,14,15,16,17,18,19,20,21,22,23,24,25,26,27,28,29,30,31,32,33,34,35,36,37,38,39,41,42,43,40]\n",
    "len = length(gpa);"
   ]
  },
  {
   "cell_type": "code",
   "execution_count": 16,
   "metadata": {},
   "outputs": [
    {
     "name": "stdout",
     "output_type": "stream",
     "text": [
      "The list of courses to take: \n",
      "\n",
      "COMP SCI 252, COMP SCI 300, COMP SCI 354, COMP SCI 400, COMP SCI 407, COMP SCI 506, COMP SCI 547, COMP SCI 558, COMP SCI 577, COMP SCI 579, MATH 234, MATH 461, MATH 221, MATH 222, MATH 240, \n",
      "\n",
      "The optimal GPA will be 3.2599699242\n"
     ]
    }
   ],
   "source": [
    "NUM_COURSES = 15\n",
    "\n",
    "using JuMP, Cbc\n",
    "\n",
    "m = Model(with_optimizer(Cbc.Optimizer, logLevel = 0))\n",
    "\n",
    "@variable(m, x[1:len], Bin)  # whether or not a course is taken\n",
    "\n",
    "# Must satisfy degree requirements\n",
    "@constraint(m, sum( x[basic_cs[i]] for i in 1:length(basic_cs) ) == 5)\n",
    "@constraint(m, sum( x[basic_math[i]] for i in 1:length(basic_math) ) == 2)\n",
    "@constraint(m, sum( x[add_math[i]] for i in 1:length(add_math) ) >= 2)\n",
    "@constraint(m, sum( x[theory[i]] for i in 1:length(theory) ) >= 1)\n",
    "@constraint(m, sum( x[soft_hard[i]] for i in 1:length(soft_hard) ) >= 2)\n",
    "@constraint(m, sum( x[app[i]] for i in 1:length(app) ) >= 1)\n",
    "@constraint(m, sum( x[elect[i]] for i in 1:length(elect) ) >= 2)\n",
    "\n",
    "# A class can not count for more than one degree requirement\n",
    "@constraint(m, sum( x[i] for i in 1:len ) == NUM_COURSES)\n",
    "\n",
    "# Must satisfy prerequisite requirements\n",
    "for i in 1:len\n",
    "    for j in pre[i]\n",
    "        @constraint(m, x[i] <= x[j])\n",
    "    end\n",
    "end\n",
    "\n",
    "# Maximize GPA\n",
    "@objective(m, Max, sum(x[i]*gpa[i] for i in 1:len) / NUM_COURSES);\n",
    "\n",
    "optimize!(m)\n",
    "\n",
    "println(\"The list of courses to take: \")\n",
    "println()\n",
    "opt_gpa = 0\n",
    "for i in 1:len\n",
    "    if (value(x[i]) > 0)\n",
    "        print(courses[i],\", \")\n",
    "        opt_gpa += gpa[i]\n",
    "    end\n",
    "end\n",
    "opt_gpa /= NUM_COURSES\n",
    "println()\n",
    "println()\n",
    "println(\"The optimal GPA will be \",opt_gpa)"
   ]
  },
  {
   "cell_type": "markdown",
   "metadata": {
    "collapsed": true
   },
   "source": [
    "## 4. Results and discussion ##\n",
    "\n",
    "#### Discussion ####\n",
    "\n",
    "Based on pre-requisite and graduation requirement, model 1 gives a CS student the easiest course load to graduate. The recommended list include some non-popular courses and the student can further explore on them. With the highest possible GPA in CS courses, the student may find it easier to look for jobs or apply for graduate programs. Avoiding the challenging courses, the student will also face less pressure during study. \n",
    "\n",
    "However, there are some limitations in this model. For example, course credit is not reflected in GPA calculation as each course is weighted equally, and therefore, the optimal GPA is not precise. However, if course credit is included, the model will turn into a complicated non-linear programming model, which can be hard to solve. Furthermore, the calculated optimal GPA will not lose too much precision since most courses have three or four credits. Therefore, course credit is left out of the model. A major limitation of this model is that some courses in the generated list are not useful and in reality, a student will not take them even if they boost GPA.\n",
    "\n",
    "In the next steps, we plan to print the course list as a rough schedule so the student can better know how to take theses courses. We will also complete model 2 and compare it with model 1.\n"
   ]
  },
  {
   "cell_type": "markdown",
   "metadata": {
    "collapsed": true
   },
   "source": [
    "## 5. Conclusion ##\n",
    "\n",
    "Summarize your findings and your results, and talk about at least one possible future direction; something that might be interesting to pursue as a follow-up to your project."
   ]
  },
  {
   "cell_type": "markdown",
   "metadata": {
    "collapsed": true
   },
   "source": [
    "## 6. Author Contributions\n",
    "\n",
    "Note: The contributions in each category must sum to 100%. See Canvas for more details on what type of work belongs in each category.\n",
    "\n",
    "#### 1. Modelling  \n",
    "Student A: Percentage contribution %  \n",
    "Student B: Percentage contribution %  \n",
    "Student C: Percentage contribution %  \n",
    "\n",
    "  \n",
    "#### 2. Analysis  \n",
    "Student A: Percentage contribution %  \n",
    "Student B: Percentage contribution %  \n",
    "Student C: Percentage contribution %  \n",
    "\n",
    "\n",
    "#### 3. Data Gathering  \n",
    "Student A: Percentage contribution %  \n",
    "Student B: Percentage contribution %  \n",
    "Student C: Percentage contribution %  \n",
    "\n",
    "\n",
    "#### 4. Software Implementation  \n",
    "Student A: Percentage contribution %  \n",
    "Student B: Percentage contribution %  \n",
    "Student C: Percentage contribution %  \n",
    "\n",
    "\n",
    "#### 5. Report writing and poster presentation   \n",
    "Student A: Percentage contribution %  \n",
    "Student B: Percentage contribution %  \n",
    "Student C: Percentage contribution %  \n",
    "\n",
    "#### 5. Other Outside Attributrions\n",
    "How Doctoral Students and Graduates Can Facilitate Boundary Spanning between Academia and Industry Kunttu_et_al_TIMReview_June2018.pdf (p52)"
   ]
  },
  {
   "cell_type": "code",
   "execution_count": null,
   "metadata": {},
   "outputs": [],
   "source": []
  }
 ],
 "metadata": {
  "@webio": {
   "lastCommId": null,
   "lastKernelId": null
  },
  "kernelspec": {
   "display_name": "Julia 1.3.1",
   "language": "julia",
   "name": "julia-1.3"
  },
  "language_info": {
   "file_extension": ".jl",
   "mimetype": "application/julia",
   "name": "julia",
   "version": "1.3.1"
  }
 },
 "nbformat": 4,
 "nbformat_minor": 1
}
