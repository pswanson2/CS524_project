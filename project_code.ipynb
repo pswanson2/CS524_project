{
 "cells": [
  {
   "cell_type": "code",
   "execution_count": 1,
   "metadata": {},
   "outputs": [],
   "source": [
    "using CSV\n",
    "\n",
    "raw = CSV.read(\"courses_and_GPA.csv\")\n",
    "(m,n) = size(raw)\n",
    "\n",
    "courses = raw[:,1]\n",
    "gpa = convert(Matrix{Float64}, raw[:,2:n])\n",
    "pre = [[],[],[],[2],[2,3],[3],[3],[69,70,3],[51],[51],[49],[51],[6,7],[55,3],[51,59,3],[70,6],[3,51],[51],[18,3],[69,1],[45,51],[3,69],[5,6],[5,6],[5,6],[1],[3,68],[23],[47,3,5],[4,5],[6,47],[69,6],[5,6],[55,73],[1],[3,69],[70,6],[],[3,51],[],[24],[24],[32],[],[44],[44],[69],[47],[71,73],[69],[69],[58],[52],[47],[69],[47],[],[57],[47],[47],[51],[47],[53],[56,57],[64],[64],[56],[],[],[],[47],[48],[68]]                                 \n",
    "\n",
    "add_math = [55,73,8,10,14,15,18,19,46,47,50,51,52,53,54,56,58,60,61,62,12,63,64,65,66,67,48,49,71,72]\n",
    "theory = [37,16]\n",
    "soft_hard = [7,13,23,24,30,33,41,42]\n",
    "app = [8,9,14,15,17,18,22,27,28,29,32,35,]\n",
    "elect = [7,8,9,10,11,12,13,14,15,16,17,18,19,20,21,22,23,24,25,26,27,28,29,30,31,32,33,34,35,36,37,38,39,41,42,43,40]\n",
    ";"
   ]
  },
  {
   "cell_type": "code",
   "execution_count": 2,
   "metadata": {},
   "outputs": [
    {
     "ename": "UndefVarError",
     "evalue": "UndefVarError: len not defined",
     "output_type": "error",
     "traceback": [
      "UndefVarError: len not defined",
      "",
      "Stacktrace:",
      " [1] macro expansion at /Users/Peter/.julia/packages/JuMP/MsUSY/src/macros.jl:189 [inlined]",
      " [2] top-level scope at ./In[2]:4"
     ]
    }
   ],
   "source": [
    "using JuMP, Cbc\n",
    "\n",
    "m = Model(with_optimizer(Cbc.Optimizer, logLevel = 0))\n",
    "\n",
    "@variable(m, x[1:len], Bin)  # whether or not a course is taken\n",
    "\n",
    "# Must satisfy degree requirements\n",
    "@constraint(m, sum( x[add_math[i]] for i in 1:length(add_math) ) >= 2)\n",
    "@constraint(m, sum( x[theory[i]] for i in 1:length(theory) ) >= 1)\n",
    "@constraint(m, sum( x[soft_hard[i]] for i in 1:length(soft_hard) ) >= 2)\n",
    "@constraint(m, sum( x[app[i]] for i in 1:length(app) ) >= 1)\n",
    "@constraint(m, sum( x[elect[i]] for i in 1:length(elect) ) >= 2)\n",
    "\n",
    "# A class can not count for more than one degree requirement\n",
    "@constraint(m, sum( x[i] for i in 1:len ) == 8)\n",
    "\n",
    "# Must satisfy prerequisite requirements\n",
    "\n",
    "# Maximize GPA\n",
    "@objective(m, Max, sum(x[i]*gpa[i] for i in 1:len) / 8);\n",
    "\n",
    "optimize!(m)\n",
    "\n",
    "opt_gpa = 0\n",
    "for i in 1:len\n",
    "    if (value(x[i]) > 0)\n",
    "        println(courses[i])\n",
    "        opt_gpa += gpa[i]\n",
    "    end\n",
    "end\n",
    "opt_gpa /= 8\n",
    "println(opt_gpa)"
   ]
  },
  {
   "cell_type": "code",
   "execution_count": null,
   "metadata": {},
   "outputs": [],
   "source": []
  }
 ],
 "metadata": {
  "kernelspec": {
   "display_name": "Julia 1.3.1",
   "language": "julia",
   "name": "julia-1.3"
  },
  "language_info": {
   "file_extension": ".jl",
   "mimetype": "application/julia",
   "name": "julia",
   "version": "1.3.1"
  }
 },
 "nbformat": 4,
 "nbformat_minor": 2
}
