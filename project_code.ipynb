{
 "cells": [
  {
   "cell_type": "code",
   "execution_count": 2,
   "metadata": {},
   "outputs": [],
   "source": [
    "using CSV\n",
    "\n",
    "raw = CSV.read(\"courses_and_GPA.csv\")\n",
    "(m,n) = size(raw)\n",
    "\n",
    "courses = raw[:,1]\n",
    "gpa = convert(Matrix{Float64}, raw[:,2:n])\n",
    "pre = [[],[],[],[2],[2,3],[3],[3],[69,70,3],[51],[51],[49],[51],[6,7],[55,3],[51,59,3],[70,6],[3,51],[51],[18,3],[69,1],[45,51],[3,69],[5,6],[5,6],[5,6],[1],[3,68],[23],[47,3,5],[4,5],[6,47],[69,6],[5,6],[55,73],[1],[3,69],[70,6],[],[3,51],[],[24],[24],[32],[],[44],[44],[69],[47],[71,73],[69],[69],[58],[52],[47],[69],[47],[],[57],[47],[47],[51],[47],[53],[56,57],[64],[64],[56],[],[],[],[47],[48],[68]]                                 \n",
    "\n",
    "add_math = [55,73,8,10,14,15,18,19,46,47,50,51,52,53,54,56,58,60,61,62,12,63,64,65,66,67,48,49,71,72]\n",
    "theory = [37,16]\n",
    "soft_hard = [7,13,23,24,30,33,41,42]\n",
    "app = [8,9,14,15,17,18,22,27,28,29,32,35,]\n",
    "elect = [7,8,9,10,11,12,13,14,15,16,17,18,19,20,21,22,23,24,25,26,27,28,29,30,31,32,33,34,35,36,37,38,39,41,42,43,40]\n",
    ";"
   ]
  },
  {
   "cell_type": "code",
   "execution_count": 12,
   "metadata": {},
   "outputs": [
    {
     "data": {
      "text/plain": [
       "73-element Array{VariableRef,1}:\n",
       " z[1] \n",
       " z[2] \n",
       " z[3] \n",
       " z[4] \n",
       " z[5] \n",
       " z[6] \n",
       " z[7] \n",
       " z[8] \n",
       " z[9] \n",
       " z[10]\n",
       " z[11]\n",
       " z[12]\n",
       " z[13]\n",
       " ⋮    \n",
       " z[62]\n",
       " z[63]\n",
       " z[64]\n",
       " z[65]\n",
       " z[66]\n",
       " z[67]\n",
       " z[68]\n",
       " z[69]\n",
       " z[70]\n",
       " z[71]\n",
       " z[72]\n",
       " z[73]"
      ]
     },
     "execution_count": 12,
     "metadata": {},
     "output_type": "execute_result"
    }
   ],
   "source": [
    "using JuMP, Cbc\n",
    "\n",
    "m = Model(with_optimizer(Cbc.Optimizer))\n",
    "@variable(m, z[1:73] , Bin)\n",
    "\n",
    "#need to satisfy the requirements\n",
    "@constraint(m, sum(z[i] for i in add_math) >= 2) \n",
    "@constraint(m, sum(z[i] for i in theory) >= 1) \n",
    "@constraint(m, sum(z[i] for i in soft_hard) >= 2)\n",
    "@constraint(m, sum(z[i] for i in app) >= 1)\n",
    "@constraint(m, sum(z[i] for i in elect) >= 2)"
   ]
  },
  {
   "cell_type": "code",
   "execution_count": 18,
   "metadata": {},
   "outputs": [
    {
     "name": "stdout",
     "output_type": "stream",
     "text": [
      "Welcome to the CBC MILP Solver \n",
      "Version: 2.10.3 \n",
      "Build Date: Oct  7 2019 \n",
      "\n",
      "command line - Cbc_C_Interface -solve -quit (default strategy 1)\n",
      "Continuous objective value is 231.473 - 0.00 seconds\n",
      "Cgl0004I processed model has 0 rows, 0 columns (0 integer (0 of which binary)) and 0 elements\n",
      "Cbc3007W No integer variables - nothing to do\n",
      "Cuts at root node changed objective from -231.473 to -1.79769e+308\n",
      "Probing was tried 0 times and created 0 cuts of which 0 were active after adding rounds of cuts (0.000 seconds)\n",
      "Gomory was tried 0 times and created 0 cuts of which 0 were active after adding rounds of cuts (0.000 seconds)\n",
      "Knapsack was tried 0 times and created 0 cuts of which 0 were active after adding rounds of cuts (0.000 seconds)\n",
      "Clique was tried 0 times and created 0 cuts of which 0 were active after adding rounds of cuts (0.000 seconds)\n",
      "MixedIntegerRounding2 was tried 0 times and created 0 cuts of which 0 were active after adding rounds of cuts (0.000 seconds)\n",
      "FlowCover was tried 0 times and created 0 cuts of which 0 were active after adding rounds of cuts (0.000 seconds)\n",
      "TwoMirCuts was tried 0 times and created 0 cuts of which 0 were active after adding rounds of cuts (0.000 seconds)\n",
      "ZeroHalf was tried 0 times and created 0 cuts of which 0 were active after adding rounds of cuts (0.000 seconds)\n",
      "\n",
      "Result - Optimal solution found\n",
      "\n",
      "Objective value:                231.47336338\n",
      "Enumerated nodes:               0\n",
      "Total iterations:               0\n",
      "Time (CPU seconds):             0.01\n",
      "Time (Wallclock seconds):       0.02\n",
      "\n",
      "Total time (CPU seconds):       0.01   (Wallclock seconds):       0.03\n",
      "\n"
     ]
    }
   ],
   "source": [
    "#prerequistes need to be taken in advance\n",
    "for i in 1:73\n",
    "    for j in pre[i]\n",
    "        @constraint(m, z[i] <= z[j])\n",
    "    end\n",
    "end\n",
    "\n",
    "@objective(m, Max, sum(z[i]*gpa[i] for i in 1:73))\n",
    "\n",
    "optimize!(m)"
   ]
  },
  {
   "cell_type": "code",
   "execution_count": null,
   "metadata": {},
   "outputs": [],
   "source": []
  }
 ],
 "metadata": {
  "kernelspec": {
   "display_name": "Julia 1.3.1",
   "language": "julia",
   "name": "julia-1.3"
  },
  "language_info": {
   "file_extension": ".jl",
   "mimetype": "application/julia",
   "name": "julia",
   "version": "1.3.1"
  }
 },
 "nbformat": 4,
 "nbformat_minor": 2
}
