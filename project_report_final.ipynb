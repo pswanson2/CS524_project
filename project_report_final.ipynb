{
 "cells": [
  {
   "cell_type": "markdown",
   "metadata": {},
   "source": [
    "### CS/ECE/ISyE 524 &mdash; Introduction to Optimization &mdash; Spring 2020 ###\n",
    "\n",
    "# Grade Boosters #\n",
    "\n",
    "### Algorithms predicting the best courses should be taken by CS students based on their interests, GPA, among other factors.###\n",
    "\n",
    "#### Student 1 (email address), Student 2 (email address), Student 3 (email address), and Student 4 (email address)\n",
    "\n",
    "*****\n",
    "\n",
    "### Table of Contents\n",
    "\n",
    "1. [Introduction](#1.-Introduction)\n",
    "2. [Mathematical Model](#2.-Mathematical-model)\n",
    "  1. [Data sets and Optimization algorithms used](#4.A.-Results)\n",
    "  1. [Final Mathematical Model](#4.A.-Correctness)\n",
    "3. [Solution](#3.-Solution)\n",
    "4. [Results and Discussion](#4.-Results-and-discussion)\n",
    "  1. [Results](#4.A.-Results)\n",
    "  1. [Correctness](#4.A.-Correctness)\n",
    "  1. [Things not taken into account](#4.A.-Things-not-taken-into-account)\n",
    "  1. [Future work and application](#4.A.-Future-work-and-application)\n",
    "5. [Conclusion](#5.-Conclusion)\n",
    "6. [Attributions]"
   ]
  },
  {
   "cell_type": "code",
   "execution_count": 2,
   "metadata": {},
   "outputs": [
    {
     "name": "stdout",
     "output_type": "stream",
     "text": [
      "\u001b[32m\u001b[1m Resolving\u001b[22m\u001b[39m package versions...\n",
      "\u001b[32m\u001b[1m  Updating\u001b[22m\u001b[39m `C:\\Users\\Liyuan\\.julia\\environments\\v1.3\\Project.toml`\n",
      "\u001b[90m [no changes]\u001b[39m\n",
      "\u001b[32m\u001b[1m  Updating\u001b[22m\u001b[39m `C:\\Users\\Liyuan\\.julia\\environments\\v1.3\\Manifest.toml`\n",
      "\u001b[90m [no changes]\u001b[39m\n",
      "\u001b[32m\u001b[1m Resolving\u001b[22m\u001b[39m package versions...\n",
      "\u001b[32m\u001b[1m  Updating\u001b[22m\u001b[39m `C:\\Users\\Liyuan\\.julia\\environments\\v1.3\\Project.toml`\n",
      "\u001b[90m [no changes]\u001b[39m\n",
      "\u001b[32m\u001b[1m  Updating\u001b[22m\u001b[39m `C:\\Users\\Liyuan\\.julia\\environments\\v1.3\\Manifest.toml`\n",
      "\u001b[90m [no changes]\u001b[39m\n"
     ]
    }
   ],
   "source": [
    "## RUN ME NOW ONLY ONCE TO INSTALL NECESSARY LIBRARIES\n",
    "import Pkg;Pkg.add(\"PyPlot\");Pkg.add(\"Cbc\"); "
   ]
  },
  {
   "cell_type": "markdown",
   "metadata": {
    "collapsed": true
   },
   "source": [
    "## 1. Introduction ##\n",
    "\n",
    "This project develops an algorithm to help students in the University of Wisconsin-Madison Computer Sciences department develop an optimal schedule based on their interests. In addition to providing their optimal schedule, the algorithm will provide insights into different course types as well as what careers these courses can lead them into. For example, courses in computer archetecture may lend someone different career options than courses in information security.\n",
    "\n",
    "The algorithm takes into account course pre-requesites, students' areas of interest within computer science, courses' diffiulties (Average GPA), as well as areas of pursuits (industrial or academic). Furthermore, this project explores the trade-off between weights of areas of interests, grades, and area of pursuits in finding each student's optimal schedule. \n",
    "\n",
    "The purposes of this project are to:  \n",
    "1. look for an algorithm to best serve the students as they go through a computer science program  \n",
    "2. give Computer Science programs across the country ways to analysize the fit for their program in industry and / or academia  \n",
    "3. give advisors of Computer Science programs better insights to better serve their undergraduate students  \n",
    "4. provide social scientists and other social, administrative, political workers insights of computer science trends within American Higher Education. \n",
    "\n",
    "This project does not take into account of any statistical samples. This project solely looks for an algorithm to solve the optimization problem. See Future Work and Application in section 4 for how this algorithms can be applied."
   ]
  },
  {
   "cell_type": "markdown",
   "metadata": {
    "collapsed": true
   },
   "source": [
    "## 2. Mathematical model ##\n"
   ]
  },
  {
   "cell_type": "markdown",
   "metadata": {},
   "source": [
    "### 1. Data Sets, Sourcing and Algorithms Discussion  ###\n",
    "All of the different data will be broken up into general sets, then sourcing and algorithms on each data sets will be discussed separately in this section before a general algorithm is applied for testing the problem as a whole in the next section.\n",
    "\n",
    "Below are the list of sets of data broken into their individual sets:\n",
    "  1. [Pre-requisites and graduation requirements](#3.1.-Pre-requisites and graduation requirements)\n",
    "  2. [GPA]\n",
    "  3. [Areas of Pursuits (industry or academia)](#4.A.-Correctness)\n",
    "  4. [Areas of Interests]"
   ]
  },
  {
   "cell_type": "markdown",
   "metadata": {},
   "source": [
    "#### 1. Pre-requisites and graduation constraint ####\n",
    "\n",
    "We are considering 2 constraints here: First is graduation requirements of courses must be taken in certain different catagories; second is the pre-requisites of a some courses, of which cannot be taken before they are completed. \n",
    "\n",
    "Datasets are from..\n",
    "\n",
    "First consider decision variable-classes. Let $x$ be the class index vector of possible classes listed from the class table. So the length of $x$ is 73, and $x_i=1$ when the class is taken, $x_i=0$ when the class is not taken.\n",
    "\n",
    "Now consider graduation requirement contraint. Let the below variables be catagory vectors of length of vector $x$. These vectors model the catogories of classes required for graduation.\n",
    "    $$ basic\\_cs $$\n",
    "    $$ basic\\_math $$\n",
    "    $$ add\\_math $$\n",
    "    $$ theory $$\n",
    "    $$ soft\\_hard $$\n",
    "    $$ app $$\n",
    "    $$ elect $$\n",
    "The vectors above at index $i$ equals to $1$ whenever class at $x_i$ belongs to the that catagory vector, $0$ whenever the class at $x_i$ does not belong to that catagory vector. As shown in table below\n",
    "\n",
    "We denote operation $(a, b)$ as the inner product of $a$ and $b$. So our graduation constraints are:\n",
    "    $$(basic\\_cs, x) = 5,$$\n",
    "    $$(basic\\_math , x) = 2,$$\n",
    "    $$(add\\_math , x) \\geq 2,$$\n",
    "    $$(theory , x) \\geq 1,$$\n",
    "    $$(soft\\_hard , x) \\geq 2,$$\n",
    "    $$(app , x) \\geq 1,$$\n",
    "    $$(elect , x) \\geq 2.$$\n",
    "    \n",
    "Now consider course pre-requisite constraint. Let pre-requisite matrix $P_{73,73}\\in\\{0,1\\}$ where $P_{i,j}=1$ if class of index $j$ is a prerequisite for class of index $i$. We define that $P_{i,j}=1, i=j$ if a class at index $i$ does not have any prerequisite requirement, and that $P_{i,j}=0, i=j$ if a class at index $i$ has a pre-requisite. \n",
    "Define vector $v:=(P, x)$, so the result of $v$ gives us the information if the pre-requisite is met for a certain class of index $k$: if pre-requisite of class at index $k$ is met (even if that class does not include any pre-requisite), then $v_k = 1$, otherwise $v_k = 0$.\n",
    "\n",
    "If we do not consider the order of classes taken (or the timetable which a class of pre-requisite of another must be taken before that other class), then the resulting mathematical constraint is:\n",
    "$$v - x = (P, x) - x = 0$$\n",
    "\n",
    "If we do take into account of classes taken "
   ]
  },
  {
   "cell_type": "markdown",
   "metadata": {},
   "source": [
    "#### 2. GPA  Objective ####\n",
    "\n",
    "GPA data source\n",
    "\n"
   ]
  },
  {
   "cell_type": "markdown",
   "metadata": {},
   "source": [
    "#### 3. Areas of Pursuits (Industry or Academia) ####\n",
    "We define two areas of pursuits: Industry and Academia.\n",
    "\n",
    "The statistics on amount of undergraduates who pursue an academic life or industrial life is scarce. Kunttu_et_al, who discussed methods universities are trying to incorporate these two life paths, said in discovery that too few young doctors select industrial career after their graduation. It is not hard to see the benefit of integrating industrial and academic lives, therefore the algorithmic solution to our optimization problem should favor the needs of students being able to pursue both a researcher and a software practitioner.\n",
    "\n",
    "We manually assigned two scores of 0-9 (float64 in Julia) for each course on our course list. Let these 2 scores be called industry_rating and research_rating. \n",
    "\n",
    "We now plot all of the classes along x-axis as industry rating and y-axis as research rating. We will also define a function that models the optimal curve \n",
    "\n",
    "$f=\\frac{1}{xd}$ where $1/(9d)<x<9$, and $d \\in $. \n",
    "\n",
    "We will define an optimal as a point on the optimal curve. This point is pre-determined "
   ]
  },
  {
   "cell_type": "code",
   "execution_count": 3,
   "metadata": {},
   "outputs": [
    {
     "data": {
      "image/png": "[encoded data removed]",
      "text/plain": [
       "Figure(PyObject <Figure size 640x480 with 1 Axes>)"
      ]
     },
     "metadata": {},
     "output_type": "display_data"
    }
   ],
   "source": [
    "using PyPlot\n",
    "#n = readline()\n",
    "difficulty = 0.1\n",
    "industry = range(1/9/difficulty,stop=9,length=50) # parameter that traverses the circle\n",
    "optimal = 1 ./ (difficulty*industry) # radius and coordinates of the center\n",
    "plot( industry, optimal, \"b-\")\n",
    "#scatter( X[1,:], X[2,:], color=\"black\") # plot the 50 points\n",
    "xlabel(\"industry rating\");\n",
    "ylabel(\"research rating\");\n",
    "legend([\"Optimal \"])\n",
    "axis([0,10,0,10])\n",
    "grid()"
   ]
  },
  {
   "cell_type": "markdown",
   "metadata": {},
   "source": [
    "#### 4. Areas of Interests ####"
   ]
  },
  {
   "cell_type": "markdown",
   "metadata": {},
   "source": [
    "#### 4. Overall Model ####"
   ]
  },
  {
   "cell_type": "markdown",
   "metadata": {
    "collapsed": true
   },
   "source": [
    "## 3. Solution ##\n",
    "\n",
    "Here, you should code up your model in Julia + JuMP and solve it. Your code should be clean, easy to read, well annotated and commented, and it should compile! You are not allowed to use other programming languages or DCP packages such as `convex.jl`. **We will be running your code**. Having multiple code blocks separated by text blocks that explain the various parts of your solution will make it much easier for us to understand your project. You may also solve several versions of your problem with different models/assumptions. **Remember that if you do not write your description of the project and commeent your code well, we cannot understand what you have done. Even if it is technically brilliant, you will loose points if you do not write well and comment your code well.**\n",
    "\n",
    "It's fine to call external packages such as `Gurobi`, but try to minimize the use of other packages. We want to be able to understand what is happening in your code without looking up additional references. "
   ]
  },
  {
   "cell_type": "code",
   "execution_count": 1,
   "metadata": {},
   "outputs": [
    {
     "name": "stderr",
     "output_type": "stream",
     "text": [
      "┌ Info: Precompiling Clp [e2554f3b-3117-50c0-817c-e040a3ddf72d]\n",
      "└ @ Base loading.jl:1273\n"
     ]
    },
    {
     "ename": "ErrorException",
     "evalue": "The solver= keyword is no longer available in JuMP 0.19 and later. See the JuMP documentation (http://www.juliaopt.org/JuMP.jl/latest/) for latest syntax.",
     "output_type": "error",
     "traceback": [
      "The solver= keyword is no longer available in JuMP 0.19 and later. See the JuMP documentation (http://www.juliaopt.org/JuMP.jl/latest/) for latest syntax.",
      "",
      "Stacktrace:",
      " [1] error(::String) at .\\error.jl:33",
      " [2] #Model#6(::MathOptInterface.Utilities.CachingOptimizerMode, ::ClpSolver, ::Type{Model}) at C:\\Users\\Liyuan\\.julia\\packages\\JuMP\\MsUSY\\src\\JuMP.jl:164",
      " [3] (::Core.var\"#kw#Type\")(::NamedTuple{(:solver,),Tuple{ClpSolver}}, ::Type{Model}) at .\\none:0",
      " [4] top-level scope at In[1]:3"
     ]
    }
   ],
   "source": [
    "# this is a code block\n",
    "using JuMP, Clp\n",
    "m = Model(solver = ClpSolver())\n",
    "\n",
    "things = [:horses, :donkeys, :goats]  # these are the things \n",
    "@variable(m, x[things] >= 0)          # the quantities of each of the things (can't be negative)\n",
    "@constraint(m, sum(x) <= 10)          # we can't have any more than 10 things total\n",
    "@objective(m, Max, x[:horses])        # we want to maximize the number of horses\n",
    "solve(m)\n",
    "\n",
    "for i in things\n",
    "    println(\"The total number of \", i, \" is: \", getvalue(x[i]))     # print result\n",
    "end"
   ]
  },
  {
   "cell_type": "markdown",
   "metadata": {},
   "source": [
    "Remember to make sure your code compiles! I will be running your code!"
   ]
  },
  {
   "cell_type": "markdown",
   "metadata": {
    "collapsed": true
   },
   "source": [
    "## 4. Results and discussion ##\n",
    "\n",
    "Here, you display and discuss the results. Show figures, plots, images, trade-off curves, or whatever else you can think of to best illustrate your results. The discussion should explain what the results mean, and how to interpret them. You should also explain the limitations of your approach/model and how sensitive your results are to the assumptions you made.\n",
    "\n",
    "Use plots (see `PyPlot` examples from class), or you can display results in a table like this:\n",
    "\n",
    "| Tables        | Are           | Cool  |\n",
    "| ------------- |:-------------:| -----:|\n",
    "| col 3 is      | right-aligned |\\$1600 |\n",
    "| col 2 is      | centered      |  \\$12 |\n",
    "| zebra stripes | are neat      |   \\$1 |\n",
    "\n",
    "### 5.A. Things not taken into account\n",
    "\n",
    "Could add sampling weighs in:\n",
    "    Section 2.1.2\n",
    "\n",
    "\n",
    "#### 5.A.a. or subsubsections"
   ]
  },
  {
   "cell_type": "markdown",
   "metadata": {
    "collapsed": true
   },
   "source": [
    "## 5. Conclusion ##\n",
    "\n",
    "Summarize your findings and your results, and talk about at least one possible future direction; something that might be interesting to pursue as a follow-up to your project."
   ]
  },
  {
   "cell_type": "markdown",
   "metadata": {
    "collapsed": true
   },
   "source": [
    "## 6. Author Contributions\n",
    "\n",
    "Note: The contributions in each category must sum to 100%. See Canvas for more details on what type of work belongs in each category.\n",
    "\n",
    "#### 1. Modelling  \n",
    "Student A: Percentage contribution %  \n",
    "Student B: Percentage contribution %  \n",
    "Student C: Percentage contribution %  \n",
    "\n",
    "  \n",
    "#### 2. Analysis  \n",
    "Student A: Percentage contribution %  \n",
    "Student B: Percentage contribution %  \n",
    "Student C: Percentage contribution %  \n",
    "\n",
    "\n",
    "#### 3. Data Gathering  \n",
    "Student A: Percentage contribution %  \n",
    "Student B: Percentage contribution %  \n",
    "Student C: Percentage contribution %  \n",
    "\n",
    "\n",
    "#### 4. Software Implementation  \n",
    "Student A: Percentage contribution %  \n",
    "Student B: Percentage contribution %  \n",
    "Student C: Percentage contribution %  \n",
    "\n",
    "\n",
    "#### 5. Report writing and poster presentation   \n",
    "Student A: Percentage contribution %  \n",
    "Student B: Percentage contribution %  \n",
    "Student C: Percentage contribution %  \n",
    "\n",
    "#### 5. Other Outside Attributrions\n",
    "How Doctoral Students and Graduates Can Facilitate Boundary Spanning between Academia and Industry Kunttu_et_al_TIMReview_June2018.pdf (p52)"
   ]
  },
  {
   "cell_type": "code",
   "execution_count": null,
   "metadata": {},
   "outputs": [],
   "source": []
  }
 ],
 "metadata": {
  "@webio": {
   "lastCommId": null,
   "lastKernelId": null
  },
  "kernelspec": {
   "display_name": "Julia 1.3.1",
   "language": "julia",
   "name": "julia-1.3"
  },
  "language_info": {
   "file_extension": ".jl",
   "mimetype": "application/julia",
   "name": "julia",
   "version": "1.3.1"
  }
 },
 "nbformat": 4,
 "nbformat_minor": 1
}
